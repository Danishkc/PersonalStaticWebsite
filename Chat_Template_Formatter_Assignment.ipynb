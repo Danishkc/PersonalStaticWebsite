{
  "nbformat": 4,
  "nbformat_minor": 0,
  "metadata": {
    "colab": {
      "provenance": [],
      "authorship_tag": "ABX9TyNkbElmVMRUWNT+Cavj3HqS",
      "include_colab_link": true
    },
    "kernelspec": {
      "name": "python3",
      "display_name": "Python 3"
    },
    "language_info": {
      "name": "python"
    }
  },
  "cells": [
    {
      "cell_type": "markdown",
      "metadata": {
        "id": "view-in-github",
        "colab_type": "text"
      },
      "source": [
        "<a href=\"https://colab.research.google.com/github/Danishkc/PersonalStaticWebsite/blob/master/Chat_Template_Formatter_Assignment.ipynb\" target=\"_parent\"><img src=\"https://colab.research.google.com/assets/colab-badge.svg\" alt=\"Open In Colab\"/></a>"
      ]
    },
    {
      "cell_type": "markdown",
      "source": [
        "## **Assignment: Chat Template Formatter using Python**"
      ],
      "metadata": {
        "id": "NedMBxQ9ODyO"
      }
    },
    {
      "cell_type": "code",
      "execution_count": null,
      "metadata": {
        "id": "uS3Dsx_qD-hJ"
      },
      "outputs": [],
      "source": [
        "# Installing pyparsing library\n",
        "!pip install pyparsing"
      ]
    },
    {
      "cell_type": "code",
      "source": [
        "from pyparsing import (\n",
        "    CaselessLiteral, Combine, Literal, Word, Optional, restOfLine, Group, Forward, OneOrMore, NotAny, LineEnd\n",
        ")"
      ],
      "metadata": {
        "id": "U-WtCyqfHeFH"
      },
      "execution_count": 20,
      "outputs": []
    },
    {
      "cell_type": "code",
      "source": [
        "# Defining grammar rules\n",
        "user_tag_start = \"{{#user}}\"\n",
        "user_tag_end = \"{{/user}}\"\n",
        "assistant_tag_start = \"{{#assistant}}\"\n",
        "assistant_tag_end = \"{{/assistant}}\"\n",
        "gen_command = \"{{gen\" + Combine(Optional(restOfLine)) + \"}}\""
      ],
      "metadata": {
        "id": "aCq1m9NPHiCj"
      },
      "execution_count": 21,
      "outputs": []
    },
    {
      "cell_type": "code",
      "source": [
        "# Defining combined tags\n",
        "user_tag = Combine(user_tag_start + restOfLine + user_tag_end)\n",
        "assistant_tag = Combine(assistant_tag_start + restOfLine + assistant_tag_end)\n",
        "gen_command_tag = Combine(assistant_tag_start + gen_command + assistant_tag_end)"
      ],
      "metadata": {
        "id": "l29ritKdHrRl"
      },
      "execution_count": 22,
      "outputs": []
    },
    {
      "cell_type": "code",
      "source": [
        "# Defining a template segment that captures everything except gen commands\n",
        "template_segment = Combine(OneOrMore(~(gen_command | assistant_tag_end | user_tag_end) + ~LineEnd() + restOfLine))"
      ],
      "metadata": {
        "id": "giWBzSCZHxez"
      },
      "execution_count": 23,
      "outputs": []
    },
    {
      "cell_type": "code",
      "source": [
        "# Defining a complete chat template\n",
        "chat_template = Forward()\n",
        "chat_template <<= (\n",
        "    Group(user_tag + template_segment + user_tag_end) |\n",
        "    Group(assistant_tag + gen_command_tag + assistant_tag_end) |\n",
        "    Group(assistant_tag + template_segment + assistant_tag_end) |\n",
        "    Group(template_segment)\n",
        ")"
      ],
      "metadata": {
        "id": "3zQilmvjH0xK"
      },
      "execution_count": 24,
      "outputs": []
    },
    {
      "cell_type": "code",
      "source": [
        "# Creating a utility function\n",
        "def format_chat_template(input_text):\n",
        "    # Parse the input text\n",
        "    parsed = chat_template.parseString(input_text, parseAll=True)\n",
        "\n",
        "    # Initialize formatted text\n",
        "    formatted_text = []\n",
        "\n",
        "    for item in parsed:\n",
        "        if isinstance(item, list):\n",
        "            # If it's a list, join its elements into a string\n",
        "            formatted_text.append(\"\".join(map(str, item)))  # Convert each item to string before joining\n",
        "        else:\n",
        "            # Otherwise, add the item as it is\n",
        "            formatted_text.append(str(item))  # Convert item to string\n",
        "\n",
        "    # If the last assistant tag doesn't end with gen command, add one\n",
        "    if formatted_text and \"{{gen\" not in formatted_text[-1]:\n",
        "        formatted_text.append(assistant_tag_start + \"{{gen 'write' }}\" + assistant_tag_end)\n",
        "\n",
        "    # Join the segments and return\n",
        "    return \" \".join(formatted_text)"
      ],
      "metadata": {
        "id": "J6nW_h6SH62E"
      },
      "execution_count": 26,
      "outputs": []
    },
    {
      "cell_type": "code",
      "source": [
        "# Assigning Test inputs and expected outputs\n",
        "test_input_1 = \"how are things going, tell me about Delhi\"\n",
        "expected_output_1 = \"{{#user}}how are things going, tell me about Delhi{{/user}} {{#assistant}}{{gen 'write' }}{{/assistant}}\"\n",
        "\n",
        "test_input_2 = \"Tweak this proverb to apply to model instructions instead. Where there is no guidance{{gen 'rewrite'}}\"\n",
        "expected_output_2 = \"{{#user}}Tweak this proverb to apply to model instructions instead.{{/user}} Where there is no guidance {{#assistant}}{{gen 'rewrite'}}{{/assistant}}\"\n",
        "\n",
        "test_input_3 = \"Hello! {{gen 'greet'}} How can I assist you today?\"\n",
        "expected_output_3 = \"{{#user}}Hello!{{/user}} {{#assistant}}{{gen 'greet' }}{{/assistant}} How can I assist you today? {{#assistant}}{{gen 'write' }}{{/assistant}}\"\n",
        "\n",
        "test_input_4 = \"Please provide details{{gen 'details'}} Thanks!\"\n",
        "expected_output_4 = \"{{#user}}Please provide details{{/user}} {{#assistant}}{{gen 'details' }}{{/assistant}} Thanks! {{#assistant}}{{gen 'write' }}{{/assistant}}\"\n",
        "\n",
        "test_input_5 = \"Hi there! Can you {{gen 'explain'}} this concept?\"\n",
        "expected_output_5 = \"{{#user}}Hi there! Can you{{/user}} {{#assistant}}{{gen 'explain' }}{{/assistant}} this concept? {{#assistant}}{{gen 'write' }}{{/assistant}}\"\n",
        "\n",
        "test_input_6 = \"I'm curious about {{gen 'define' 'pyparsing'}} library.\"\n",
        "expected_output_6 = \"{{#user}}I'm curious about{{/user}} {{#assistant}}{{gen 'define' 'pyparsing' }}{{/assistant}} library. {{#assistant}}{{gen 'write' }}{{/assistant}}\"\n",
        "\n",
        "test_input_7 = \"{{gen 'greet'}} How can I assist you today?\"\n",
        "expected_output_7 = \"{{#user}}{{/user}} {{#assistant}}{{gen 'greet' }}{{/assistant}} How can I assist you today? {{#assistant}}{{gen 'write' }}{{/assistant}}\"\n",
        "\n",
        "test_input_8 = \"Let's talk about {{gen 'topic' 'AI'}} and its applications.\"\n",
        "expected_output_8 = \"{{#user}}Let's talk about{{/user}} {{#assistant}}{{gen 'topic' 'AI' }}{{/assistant}} and its applications. {{#assistant}}{{gen 'write' }}{{/assistant}}\""
      ],
      "metadata": {
        "id": "-ILHM8jiLdfN"
      },
      "execution_count": 27,
      "outputs": []
    },
    {
      "cell_type": "code",
      "source": [
        "# Test cases\n",
        "formatted_output_1 = format_chat_template(test_input_1)\n",
        "formatted_output_2 = format_chat_template(test_input_2)\n",
        "formatted_output_3 = format_chat_template(test_input_3)\n",
        "formatted_output_4 = format_chat_template(test_input_4)\n",
        "formatted_output_5 = format_chat_template(test_input_5)\n",
        "formatted_output_6 = format_chat_template(test_input_6)\n",
        "formatted_output_7 = format_chat_template(test_input_7)\n",
        "formatted_output_8 = format_chat_template(test_input_8)"
      ],
      "metadata": {
        "id": "LbDHzTlUMF4W"
      },
      "execution_count": 28,
      "outputs": []
    },
    {
      "cell_type": "code",
      "source": [
        "# Printing test cases\n",
        "print(formatted_output_1)\n",
        "print(formatted_output_2)\n",
        "print(formatted_output_3)\n",
        "print(formatted_output_4)\n",
        "print(formatted_output_5)\n",
        "print(formatted_output_6)\n",
        "print(formatted_output_7)\n",
        "print(formatted_output_8)"
      ],
      "metadata": {
        "id": "hxIBhbPtMB-k"
      },
      "execution_count": null,
      "outputs": []
    }
  ]
}